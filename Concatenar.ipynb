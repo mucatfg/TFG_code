{
 "cells": [
  {
   "cell_type": "code",
   "execution_count": 2,
   "id": "9e44de75-ca8c-4c56-972d-3e8d8a61318b",
   "metadata": {},
   "outputs": [
    {
     "name": "stdout",
     "output_type": "stream",
     "text": [
      "El archivo 'archivo_concatenado.csv' ha sido guardado exitosamente.\n"
     ]
    }
   ],
   "source": [
    "import pandas as pd\n",
    "\n",
    "# Cargar el primer CSV\n",
    "path1 = \"C:/Users/HP/OneDrive/Escritorio/TFG/Preprocesado/Yoli/feature_Yoli_clasicaDHMS.csv\"\n",
    "csv1 = pd.read_csv(path1)\n",
    "\n",
    "# Cargar el segundo CSV, omitiendo la primera fila (cabecera)\n",
    "path2 = \"C:/Users/HP/OneDrive/Escritorio/TFG/Preprocesado/Yoli/feature_Yoli_2_clasicaDHMS.csv\"\n",
    "csv2 = pd.read_csv(path2)\n",
    "\n",
    "# Concatenar ambos DataFrames\n",
    "csv_concatenado = pd.concat([csv1, csv2])\n",
    "\n",
    "# Guardar el archivo concatenado\n",
    "csv_concatenado.to_csv(\"C:/Users/HP/OneDrive/Escritorio/TFG/Preprocesado/Yoli/feature_Yoli_clasica_completeDHMS.csv\", index=False)\n",
    "\n",
    "print(\"El archivo 'archivo_concatenado.csv' ha sido guardado exitosamente.\")"
   ]
  },
  {
   "cell_type": "code",
   "execution_count": null,
   "id": "edf7e4c0-2195-4304-8f11-ac7df547d8f7",
   "metadata": {},
   "outputs": [],
   "source": []
  }
 ],
 "metadata": {
  "kernelspec": {
   "display_name": "Python 3 (ipykernel)",
   "language": "python",
   "name": "python3"
  },
  "language_info": {
   "codemirror_mode": {
    "name": "ipython",
    "version": 3
   },
   "file_extension": ".py",
   "mimetype": "text/x-python",
   "name": "python",
   "nbconvert_exporter": "python",
   "pygments_lexer": "ipython3",
   "version": "3.12.4"
  }
 },
 "nbformat": 4,
 "nbformat_minor": 5
}
