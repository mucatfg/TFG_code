{
 "cells": [
  {
   "cell_type": "code",
   "execution_count": 2,
   "id": "ae291755-e6b3-4b8e-aa8d-8b12d4ff85b6",
   "metadata": {},
   "outputs": [],
   "source": [
    "import pandas as pd\n",
    "import numpy as np\n",
    "from scipy.signal import butter, lfilter"
   ]
  },
  {
   "cell_type": "code",
   "execution_count": 3,
   "id": "f5be0493-5944-47d2-aa16-562e0ffa2181",
   "metadata": {},
   "outputs": [],
   "source": [
    "# Cargar el archivo CSV proporcionado\n",
    "file = 'C:/Users/HP/OneDrive/Escritorio/TFG/Psychopy/Yoli_2cancion_popular.csv'\n",
    "df = pd.read_csv(file)\n",
    "\n",
    "# Eliminar los datos del Channel 5 (última columna)\n",
    "df_filtered = df.iloc[:, :-1] #Fichero sin el último canal\n"
   ]
  },
  {
   "cell_type": "code",
   "execution_count": 4,
   "id": "727dfce4-c701-421f-90a7-a3f99dda1ac6",
   "metadata": {},
   "outputs": [],
   "source": [
    "#Función para crear un filtro paso-alto\n",
    "def butter_highpass(cutoff, fs, order=5):\n",
    "    nyq = 0.5 * fs\n",
    "    normal_cutoff = cutoff / nyq\n",
    "    b, a = butter(order, normal_cutoff, btype='high', analog=False)\n",
    "    return b, a\n",
    "\n",
    "# Función para aplicar el filtro a los datos\n",
    "def highpass_filter(data, cutoff=4.0, fs=256.0, order=5):\n",
    "    b, a = butter_highpass(cutoff, fs, order=order)\n",
    "    y = lfilter(b, a, data)\n",
    "    return y"
   ]
  },
  {
   "cell_type": "code",
   "execution_count": 5,
   "id": "d67580ab-5a1f-415a-8b74-dbeec8f6ede9",
   "metadata": {},
   "outputs": [],
   "source": [
    "#Función para crear un filtro paso banda para ir filtrando las bandas de las ondas\n",
    "# Función para crear un filtro pasa-banda\n",
    "def butter_bandpass(baja_frec, alta_frec, fs, order=4):\n",
    "    nyq = 0.5 * fs\n",
    "    baja = baja_frec / nyq\n",
    "    alta = alta_frec / nyq\n",
    "    b, a = butter(order, [baja, alta], btype='band')\n",
    "    return b, a\n",
    "# Función para aplicar un filtro pasa-banda\n",
    "def bandpass_filter(data, baja_frec, alta_frec, fs, order=4):\n",
    "    b, a = butter_bandpass(baja_frec, alta_frec, fs, order=order)\n",
    "    y = lfilter(b, a, data)\n",
    "    return y"
   ]
  },
  {
   "cell_type": "code",
   "execution_count": 6,
   "id": "bdba222b-dfee-4adb-94a2-dd0f17d4d952",
   "metadata": {},
   "outputs": [],
   "source": [
    "#Aplico el filtro al fichero\n",
    "df_delta = df_filtered.copy()\n",
    "for column in df_delta.columns[1:]:\n",
    "    df_delta[column] = highpass_filter(df_delta[column].values)"
   ]
  },
  {
   "cell_type": "code",
   "execution_count": 7,
   "id": "8534b808-927c-4c16-99f2-eee91b137b78",
   "metadata": {},
   "outputs": [],
   "source": [
    "# Parámetros de frecuencia para las diferentes bandas\n",
    "fs = 256  # Frecuencia de muestreo\n",
    "bands = {\n",
    "    'Theta': (4, 8),\n",
    "    'Alpha': (8, 12),\n",
    "    'Beta': (12, 30),\n",
    "    'Gamma': (30, 100)\n",
    "}\n",
    "\n",
    "# Parámetros para la segmentación\n",
    "num_frames = 14\n",
    "overlap_ratio = 0.5\n"
   ]
  },
  {
   "cell_type": "code",
   "execution_count": 8,
   "id": "c981d67a-b119-4df3-bd76-4a7f98e5f017",
   "metadata": {},
   "outputs": [
    {
     "name": "stdout",
     "output_type": "stream",
     "text": [
      "-149.11834437410732\n",
      "-443.6062479285595\n",
      "-264.0810903161566\n",
      "-732.2627078482701\n"
     ]
    },
    {
     "ename": "KeyError",
     "evalue": "0",
     "output_type": "error",
     "traceback": [
      "\u001b[1;31m---------------------------------------------------------------------------\u001b[0m",
      "\u001b[1;31mValueError\u001b[0m                                Traceback (most recent call last)",
      "File \u001b[1;32m~\\anaconda3\\envs\\TFG\\Lib\\site-packages\\pandas\\core\\indexes\\range.py:413\u001b[0m, in \u001b[0;36mRangeIndex.get_loc\u001b[1;34m(self, key)\u001b[0m\n\u001b[0;32m    412\u001b[0m \u001b[38;5;28;01mtry\u001b[39;00m:\n\u001b[1;32m--> 413\u001b[0m     \u001b[38;5;28;01mreturn\u001b[39;00m \u001b[38;5;28mself\u001b[39m\u001b[38;5;241m.\u001b[39m_range\u001b[38;5;241m.\u001b[39mindex(new_key)\n\u001b[0;32m    414\u001b[0m \u001b[38;5;28;01mexcept\u001b[39;00m \u001b[38;5;167;01mValueError\u001b[39;00m \u001b[38;5;28;01mas\u001b[39;00m err:\n",
      "\u001b[1;31mValueError\u001b[0m: 0 is not in range",
      "\nThe above exception was the direct cause of the following exception:\n",
      "\u001b[1;31mKeyError\u001b[0m                                  Traceback (most recent call last)",
      "Cell \u001b[1;32mIn[8], line 31\u001b[0m\n\u001b[0;32m     29\u001b[0m     feature_vector\u001b[38;5;241m.\u001b[39mappend(filtered_data\u001b[38;5;241m.\u001b[39mmean())\n\u001b[0;32m     30\u001b[0m     feature_vector\u001b[38;5;241m.\u001b[39mappend(((filtered_data[:\u001b[38;5;241m-\u001b[39m\u001b[38;5;241m1\u001b[39m] \u001b[38;5;241m*\u001b[39m filtered_data[\u001b[38;5;241m1\u001b[39m:]) \u001b[38;5;241m<\u001b[39m \u001b[38;5;241m0\u001b[39m)\u001b[38;5;241m.\u001b[39msum())  \u001b[38;5;66;03m# ZCR\u001b[39;00m\n\u001b[1;32m---> 31\u001b[0m \u001b[38;5;28mprint\u001b[39m(frame[\u001b[38;5;241m0\u001b[39m])\n\u001b[0;32m     32\u001b[0m \u001b[38;5;66;03m# Añadir las características de la señal EEG en bruto\u001b[39;00m\n\u001b[0;32m     33\u001b[0m feature_vector\u001b[38;5;241m.\u001b[39mappend(frame\u001b[38;5;241m.\u001b[39mmin())\n",
      "File \u001b[1;32m~\\anaconda3\\envs\\TFG\\Lib\\site-packages\\pandas\\core\\series.py:1121\u001b[0m, in \u001b[0;36mSeries.__getitem__\u001b[1;34m(self, key)\u001b[0m\n\u001b[0;32m   1118\u001b[0m     \u001b[38;5;28;01mreturn\u001b[39;00m \u001b[38;5;28mself\u001b[39m\u001b[38;5;241m.\u001b[39m_values[key]\n\u001b[0;32m   1120\u001b[0m \u001b[38;5;28;01melif\u001b[39;00m key_is_scalar:\n\u001b[1;32m-> 1121\u001b[0m     \u001b[38;5;28;01mreturn\u001b[39;00m \u001b[38;5;28mself\u001b[39m\u001b[38;5;241m.\u001b[39m_get_value(key)\n\u001b[0;32m   1123\u001b[0m \u001b[38;5;66;03m# Convert generator to list before going through hashable part\u001b[39;00m\n\u001b[0;32m   1124\u001b[0m \u001b[38;5;66;03m# (We will iterate through the generator there to check for slices)\u001b[39;00m\n\u001b[0;32m   1125\u001b[0m \u001b[38;5;28;01mif\u001b[39;00m is_iterator(key):\n",
      "File \u001b[1;32m~\\anaconda3\\envs\\TFG\\Lib\\site-packages\\pandas\\core\\series.py:1237\u001b[0m, in \u001b[0;36mSeries._get_value\u001b[1;34m(self, label, takeable)\u001b[0m\n\u001b[0;32m   1234\u001b[0m     \u001b[38;5;28;01mreturn\u001b[39;00m \u001b[38;5;28mself\u001b[39m\u001b[38;5;241m.\u001b[39m_values[label]\n\u001b[0;32m   1236\u001b[0m \u001b[38;5;66;03m# Similar to Index.get_value, but we do not fall back to positional\u001b[39;00m\n\u001b[1;32m-> 1237\u001b[0m loc \u001b[38;5;241m=\u001b[39m \u001b[38;5;28mself\u001b[39m\u001b[38;5;241m.\u001b[39mindex\u001b[38;5;241m.\u001b[39mget_loc(label)\n\u001b[0;32m   1239\u001b[0m \u001b[38;5;28;01mif\u001b[39;00m is_integer(loc):\n\u001b[0;32m   1240\u001b[0m     \u001b[38;5;28;01mreturn\u001b[39;00m \u001b[38;5;28mself\u001b[39m\u001b[38;5;241m.\u001b[39m_values[loc]\n",
      "File \u001b[1;32m~\\anaconda3\\envs\\TFG\\Lib\\site-packages\\pandas\\core\\indexes\\range.py:415\u001b[0m, in \u001b[0;36mRangeIndex.get_loc\u001b[1;34m(self, key)\u001b[0m\n\u001b[0;32m    413\u001b[0m         \u001b[38;5;28;01mreturn\u001b[39;00m \u001b[38;5;28mself\u001b[39m\u001b[38;5;241m.\u001b[39m_range\u001b[38;5;241m.\u001b[39mindex(new_key)\n\u001b[0;32m    414\u001b[0m     \u001b[38;5;28;01mexcept\u001b[39;00m \u001b[38;5;167;01mValueError\u001b[39;00m \u001b[38;5;28;01mas\u001b[39;00m err:\n\u001b[1;32m--> 415\u001b[0m         \u001b[38;5;28;01mraise\u001b[39;00m \u001b[38;5;167;01mKeyError\u001b[39;00m(key) \u001b[38;5;28;01mfrom\u001b[39;00m \u001b[38;5;21;01merr\u001b[39;00m\n\u001b[0;32m    416\u001b[0m \u001b[38;5;28;01mif\u001b[39;00m \u001b[38;5;28misinstance\u001b[39m(key, Hashable):\n\u001b[0;32m    417\u001b[0m     \u001b[38;5;28;01mraise\u001b[39;00m \u001b[38;5;167;01mKeyError\u001b[39;00m(key)\n",
      "\u001b[1;31mKeyError\u001b[0m: 0"
     ]
    }
   ],
   "source": [
    "# Lista para almacenar los vectores de características de cada frame 1x80\n",
    "feature_vectors = []\n",
    "\n",
    "# Dividir el DataFrame en 14 frames con solapamiento del 50%\n",
    "total_samples = len(df_delta)\n",
    "frame_size = total_samples // (num_frames + (num_frames - 1) * overlap_ratio) #tamaño de cada frame\n",
    "frame_size = int(frame_size)\n",
    "overlap = int(frame_size * overlap_ratio)\n",
    "\n",
    "# Iterar sobre los 14 frames\n",
    "for i in range(num_frames):\n",
    "    start_index = i * (frame_size - overlap)\n",
    "    end_index = start_index + frame_size\n",
    "    \n",
    "    # Crear el vector para almacenar las características\n",
    "    feature_vector = []\n",
    "    \n",
    "    # Iterar sobre cada canal (columna) en el DataFrame (excluyendo la primera columna:timestamp)\n",
    "    for channel in df_delta.columns[1:]:\n",
    "        frame = df_delta[channel].iloc[start_index:end_index].copy()\n",
    "\n",
    "        # Procesar las ondas Theta, Alpha, Beta, Gamma y la señal EEG en bruto (raw EEG)\n",
    "        for band_name, (baja_frec, alta_frec) in bands.items():\n",
    "            filtered_data = bandpass_filter(frame.values, baja_frec, alta_frec, fs)\n",
    "            \n",
    "            # Calcular características\n",
    "            feature_vector.append(filtered_data.min())\n",
    "            feature_vector.append(filtered_data.max())\n",
    "            feature_vector.append(filtered_data.mean())\n",
    "            feature_vector.append(((filtered_data[:-1] * filtered_data[1:]) < 0).sum())  # ZCR\n",
    "    \n",
    "        # Añadir las características de la señal EEG en bruto\n",
    "        feature_vector.append(frame.min())\n",
    "        feature_vector.append(frame.max())\n",
    "        feature_vector.append(frame.mean())\n",
    "        feature_vector.append(((frame[:-1].values * frame[1:].values) < 0).sum())  # ZCR\n",
    "    \n",
    "    # Añadir el vector de características a la lista\n",
    "    feature_vectors.append(feature_vector)\n",
    "\n",
    "# Convertir la lista de vectores de características en un DataFrame para su análisis\n",
    "df_features = pd.DataFrame(feature_vectors, columns=[f'feature_{i+1}' for i in range(80)])\n",
    "\n",
    "# Guardar el DataFrame de características en un archivo CSV si es necesario\n",
    "df_features.to_csv('C:/Users/HP/OneDrive/Escritorio/TFG/Preprocesado/feature_Yoli_2_pop.csv', index=False)\n",
    "\n",
    "print(\"Proceso completado y las características se han guardado en 'feature_vectors.csv'\")\n"
   ]
  },
  {
   "cell_type": "code",
   "execution_count": null,
   "id": "719987a2-043f-40d1-b98e-f375a26d5c9f",
   "metadata": {},
   "outputs": [],
   "source": []
  }
 ],
 "metadata": {
  "kernelspec": {
   "display_name": "Python 3 (ipykernel)",
   "language": "python",
   "name": "python3"
  },
  "language_info": {
   "codemirror_mode": {
    "name": "ipython",
    "version": 3
   },
   "file_extension": ".py",
   "mimetype": "text/x-python",
   "name": "python",
   "nbconvert_exporter": "python",
   "pygments_lexer": "ipython3",
   "version": "3.12.4"
  }
 },
 "nbformat": 4,
 "nbformat_minor": 5
}
