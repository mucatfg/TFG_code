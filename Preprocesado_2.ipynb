{
 "cells": [
  {
   "cell_type": "code",
   "execution_count": 420,
   "id": "f46038cb-0557-434f-ac21-7f48ddbda08d",
   "metadata": {},
   "outputs": [],
   "source": [
    "import pandas as pd\n",
    "import numpy as np\n",
    "from scipy.signal import iirnotch, freqz, lfilter, butter\n",
    "from scipy.stats import skew, kurtosis, zscore"
   ]
  },
  {
   "cell_type": "code",
   "execution_count": 1440,
   "id": "c5a1176e-1288-4ff2-a642-754734e3e6aa",
   "metadata": {},
   "outputs": [],
   "source": [
    "# Cargar el archivo CSV proporcionado\n",
    "file = 'C:/Users/HP/OneDrive/Escritorio/TFG/Psychopy/Yoli_2musica_electronica.csv'\n",
    "df = pd.read_csv(file)\n",
    "\n",
    "# Eliminar los datos del Channel 5 (última columna)\n",
    "df_filtered = df.iloc[:, :-1] #Fichero sin el último canal\n"
   ]
  },
  {
   "cell_type": "code",
   "execution_count": 1441,
   "id": "2d27e976-2176-44ca-a4b3-49cff58a9b93",
   "metadata": {},
   "outputs": [],
   "source": [
    "fs = 256 #Frecuencia de muestreo\n",
    "f0 = 60 #Frecuencia a eliminar\n",
    "Q = 30\n",
    "\n",
    "#Filtro notch\n",
    "b, a = iirnotch(f0, Q, fs)"
   ]
  },
  {
   "cell_type": "code",
   "execution_count": 1442,
   "id": "3b2498f5-1e1e-43f3-9bac-60ceac6a794f",
   "metadata": {},
   "outputs": [],
   "source": [
    "#Filtro paso banda --> 4-45 Hz para eliminar estas bandas de frecuencia\n",
    "# Función para crear un filtro pasa-banda\n",
    "def butter_bandpass(baja_frec, alta_frec, fs, order=4):\n",
    "    nyq = 0.5 * fs\n",
    "    baja = baja_frec / nyq\n",
    "    alta = alta_frec / nyq\n",
    "    b, a = butter(order, [baja, alta], btype='band')\n",
    "    return b, a\n",
    "# Función para aplicar un filtro pasa-banda\n",
    "def bandpass_filter(data, baja_frec, alta_frec, fs, order=4):\n",
    "    b, a = butter_bandpass(baja_frec, alta_frec, fs, order=order)\n",
    "    y = lfilter(b, a, data)\n",
    "    return y"
   ]
  },
  {
   "cell_type": "code",
   "execution_count": 1443,
   "id": "b1b7ae12-dd49-4180-a439-1b10c8a43b44",
   "metadata": {},
   "outputs": [],
   "source": [
    "#Aplicacion de los dos filtros\n",
    "df_data = df_filtered.copy()\n",
    "for channel in df_data.columns[1:]:  # Evitar la columna 'Timestamp'\n",
    "    df_data[channel] = lfilter(b, a, df_data[channel].values)"
   ]
  },
  {
   "cell_type": "code",
   "execution_count": 1444,
   "id": "625f10d7-0053-4cda-ae63-f56916a3de58",
   "metadata": {},
   "outputs": [],
   "source": [
    "df_data_filter = df_data.copy()\n",
    "\n",
    "# Aplicar filtro pasa-banda 4-45 Hz\n",
    "baja_frec = 4\n",
    "alta_frec = 45\n",
    "\n",
    "#Aplico filtro paso banda para quedarme con la banda de 4-45 Hz\n",
    "for channel in df_data_filter.columns[1:]:  # Evitar la columna 'Timestamp'\n",
    "    df_data_filter[channel] = bandpass_filter(df_data_filter[channel].values, baja_frec, alta_frec,fs)\n"
   ]
  },
  {
   "cell_type": "code",
   "execution_count": 1445,
   "id": "d8407fb2-6981-4aed-b357-db795bdb5cb7",
   "metadata": {},
   "outputs": [],
   "source": [
    "delta_t = 1 / fs  # Intervalo de tiempo entre puntos consecutivos\n",
    "num_bins = 8  # Número de bins para el histograma\n",
    "\n",
    "# Función para calcular los coeficientes fa y fb para cada punto en un frame\n",
    "def calculate_fa_fb_for_frame(frame, delta_t,n):\n",
    "    fa = []\n",
    "    fb = []\n",
    "    inicio = n\n",
    "    for i in range(1, len(frame)):  # Recorrer todos los puntos del frame excepto el primero\n",
    "        # Calcular fa: |xn - x(n-1)| / delta_t\n",
    "        if n > inicio + 1:\n",
    "            fa.append(np.abs(frame[n] - frame[n-1]) / delta_t)\n",
    "        # Calcular fb: |xn - x(n-2)| / delta_t\n",
    "        if n > inicio + 2:\n",
    "            fb.append(np.abs(frame[n] - frame[n-2]) / delta_t)\n",
    "        n= n+1\n",
    "    return fa, fb\n"
   ]
  },
  {
   "cell_type": "code",
   "execution_count": 1446,
   "id": "081de2ee-7d7f-460d-8681-7a6df3cc54c3",
   "metadata": {},
   "outputs": [],
   "source": [
    "def calculate_frequency_histogram(frame, fs, num_bins):\n",
    "    fft_result = np.fft.fft(frame)  # FFT de la señal\n",
    "    fft_freqs = np.fft.fftfreq(len(frame), 1/fs)  # Frecuencias correspondientes\n",
    "    fft_magnitudes = np.abs(fft_result)  # Magnitud de las componentes frecuenciales\n",
    "    \n",
    "    # Calcular histograma en el dominio de la frecuencia (frecuencias positivas)\n",
    "    freq_hist, _ = np.histogram(fft_magnitudes[:len(fft_magnitudes)//2], bins=num_bins, density=True)\n",
    "    \n",
    "    return freq_hist"
   ]
  },
  {
   "cell_type": "code",
   "execution_count": 1447,
   "id": "12cb3301-3aca-445f-b7b7-b949d1a12e72",
   "metadata": {},
   "outputs": [
    {
     "name": "stdout",
     "output_type": "stream",
     "text": [
      "Proceso completado y las características se han guardado en 'feature_vectors.csv'\n"
     ]
    }
   ],
   "source": [
    "# Parámetros de frecuencia para las diferentes bandas\n",
    "num_frames = 21\n",
    "overlap_ratio = 0.75\n",
    "\n",
    "feature_vectors = []\n",
    "\n",
    "# Dividir el DataFrame en 21 frames con solapamiento del 75%\n",
    "total_samples = len(df_data_filter)\n",
    "frame_size = total_samples / (num_frames + (num_frames - 1) * overlap_ratio) #tamaño de cada frame\n",
    "frame_size = int(frame_size)\n",
    "overlap = int(frame_size * overlap_ratio)\n",
    "\n",
    "for i in range(num_frames):\n",
    "    start_index = i * (frame_size - overlap)\n",
    "    end_index = start_index + frame_size\n",
    "    \n",
    "    # Crear el vector para almacenar las características\n",
    "    feature_vector = []\n",
    "    for channel in df_data_filter.columns[1:]:\n",
    "            frame = df_data_filter[channel].iloc[start_index:end_index].copy()\n",
    "            # Calcular características\n",
    "            #feature_vector.append(frame.mean())         # Media\n",
    "            #feature_vector.append(np.median(frame))     # Mediana\n",
    "            #feature_vector.append(frame.std())          # Desviación estándar\n",
    "            #feature_vector.append(np.mean(zscore(frame)))  # Z-score\n",
    "            #feature_vector.append(skew(frame))          # Skewness (Asimetría)\n",
    "            #feature_vector.append(kurtosis(frame))      # Kurtosis\n",
    "\n",
    "            fa, fb = calculate_fa_fb_for_frame(frame, delta_t,start_index)\n",
    "        \n",
    "            if len(frame) > 0:  # Verificar si el frame no está vacío y tiene variabilidad\n",
    "                hist_Xn = calculate_frequency_histogram(frame, fs, num_bins)\n",
    "                feature_vector.extend(hist_Xn)\n",
    "            \n",
    "            # Histograma de los coeficientes fa (evitar NaN e Inf)\n",
    "        \n",
    "            if len(fa) > 0:\n",
    "                hist_fa = calculate_frequency_histogram(fa, fs, num_bins)\n",
    "                feature_vector.extend(hist_fa)\n",
    "            \n",
    "            # Histograma de los coeficientes fb (evitar NaN e Inf)\n",
    "            if len(fb) > 0:\n",
    "                hist_fb = calculate_frequency_histogram(fb, fs, num_bins)\n",
    "                feature_vector.extend(hist_fb)\n",
    "                 #Añadir el vector de características a la lista\n",
    "    feature_vectors.append(feature_vector)\n",
    "\n",
    "# Convertir la lista de vectores de características en un DataFrame para su análisis\n",
    "df_features = pd.DataFrame(feature_vectors, columns=[f'feature_{i+1}' for i in range(96)])\n",
    "\n",
    "# Guardar el DataFrame de características en un archivo CSV si es necesario\n",
    "df_features.to_csv('C:/Users/HP/OneDrive/Escritorio/TFG/Preprocesado/feature_Yoli_2_electronicaDHMS.csv', index=False)\n",
    "\n",
    "print(\"Proceso completado y las características se han guardado en 'feature_vectors.csv'\")"
   ]
  }
 ],
 "metadata": {
  "kernelspec": {
   "display_name": "Python 3 (ipykernel)",
   "language": "python",
   "name": "python3"
  },
  "language_info": {
   "codemirror_mode": {
    "name": "ipython",
    "version": 3
   },
   "file_extension": ".py",
   "mimetype": "text/x-python",
   "name": "python",
   "nbconvert_exporter": "python",
   "pygments_lexer": "ipython3",
   "version": "3.12.4"
  }
 },
 "nbformat": 4,
 "nbformat_minor": 5
}
